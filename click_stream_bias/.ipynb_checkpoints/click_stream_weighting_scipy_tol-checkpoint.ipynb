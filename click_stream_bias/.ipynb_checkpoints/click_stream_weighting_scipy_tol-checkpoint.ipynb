{
 "cells": [
  {
   "cell_type": "code",
   "execution_count": 1,
   "metadata": {
    "collapsed": false
   },
   "outputs": [
    {
     "name": "stdout",
     "output_type": "stream",
     "text": [
      "Populating the interactive namespace from numpy and matplotlib\n"
     ]
    },
    {
     "name": "stderr",
     "output_type": "stream",
     "text": [
      "/usr/local/lib/python2.7/dist-packages/matplotlib/__init__.py:1350: UserWarning:  This call to matplotlib.use() has no effect\n",
      "because the backend has already been chosen;\n",
      "matplotlib.use() must be called *before* pylab, matplotlib.pyplot,\n",
      "or matplotlib.backends is imported for the first time.\n",
      "\n",
      "  warnings.warn(_use_error_msg)\n"
     ]
    }
   ],
   "source": [
    "from __future__ import division, print_function\n",
    "import sys\n",
    "import os\n",
    "%pylab notebook\n",
    "lib_path = '/home/fgeigl/navigability_of_networks'\n",
    "sys.path.append(lib_path)\n",
    "lib_path = '/home/fgeigl/navigability_of_networks/tools'\n",
    "sys.path.append(lib_path)\n",
    "import network_matrix_tools\n",
    "import numpy as np\n",
    "from scipy.sparse import csr_matrix, diags\n",
    "import pandas as pd\n",
    "import datetime\n",
    "from scipy.sparse.csgraph import connected_components\n",
    "from collections import Counter\n",
    "import operator\n",
    "from sklearn.preprocessing import normalize\n",
    "import numba\n",
    "from joblib import Parallel, delayed\n",
    "from math import sqrt"
   ]
  },
  {
   "cell_type": "code",
   "execution_count": 2,
   "metadata": {
    "collapsed": true
   },
   "outputs": [],
   "source": [
    "def load_sparse_csr(filename):\n",
    "    loader = np.load(filename)\n",
    "    return csr_matrix((loader['data'], loader['indices'], loader['indptr']), shape=loader['shape'])"
   ]
  },
  {
   "cell_type": "code",
   "execution_count": 3,
   "metadata": {
    "collapsed": false
   },
   "outputs": [],
   "source": [
    "A = load_sparse_csr('/opt/datasets/wiki_clickstream/adjacency_clickstream_network_largest_component.npz')\n",
    "B = load_sparse_csr('/opt/datasets/wiki_clickstream/clickstream_network_transition_bias_largest_component.npz')    "
   ]
  },
  {
   "cell_type": "code",
   "execution_count": 4,
   "metadata": {
    "collapsed": false
   },
   "outputs": [
    {
     "name": "stdout",
     "output_type": "stream",
     "text": [
      "A: <class 'scipy.sparse.csr.csr_matrix'> (2140423, 2140423)\n",
      "B: <class 'scipy.sparse.csr.csr_matrix'> (2140423, 2140423)\n"
     ]
    }
   ],
   "source": [
    "print('A:', type(A), A.shape)\n",
    "print('B:', type(B), B.shape)"
   ]
  },
  {
   "cell_type": "code",
   "execution_count": 5,
   "metadata": {
    "collapsed": false
   },
   "outputs": [
    {
     "name": "stdout",
     "output_type": "stream",
     "text": [
      "largest component contains 2140423 nodes ( 1.0 )\n",
      "A: <class 'scipy.sparse.csr.csr_matrix'> (2140423, 2140423) 3.59513059841e-05\n",
      "B: <class 'scipy.sparse.csr.csr_matrix'> (2140423, 2140423) 2.66174133129e-06\n"
     ]
    }
   ],
   "source": [
    "_, labels = connected_components(A + B, directed=True, connection='strong', return_labels=True)\n",
    "label_counts = Counter(labels)\n",
    "largest_label, num_nodes = max(label_counts.items(), key=operator.itemgetter(1))\n",
    "print('largest component contains', num_nodes, 'nodes', '(', num_nodes/A.shape[0], ')')\n",
    "if num_nodes != A.shape[0]:\n",
    "    label_filt = labels == largest_label\n",
    "    A = A[label_filt, :][:, label_filt]\n",
    "    B = B[label_filt, :][:, label_filt]\n",
    "print('A:', type(A), A.shape, A.nnz/(np.power(A.shape[0],2)))\n",
    "print('B:', type(B), B.shape, B.nnz/(np.power(B.shape[0],2)))"
   ]
  },
  {
   "cell_type": "code",
   "execution_count": 6,
   "metadata": {
    "collapsed": false
   },
   "outputs": [],
   "source": [
    "def chunks(my_range, num_chunks):\n",
    "    chunk_len = int(len(my_range) / num_chunks)\n",
    "    if len(my_range) % num_chunks > 0:\n",
    "        chunk_len += 1\n",
    "    return [my_range[i*chunk_len:(i+1)*chunk_len if i < num_chunks -1 else None] for i in range(num_chunks)]\n",
    "\n",
    "\n",
    "@numba.jit\n",
    "def part_dot(M, pi):\n",
    "    return M.dot(pi)\n",
    "\n",
    "@numba.jit\n",
    "def normalize(pi_vec):\n",
    "    norm = 1./(sqrt(np.power(pi_vec, 2).sum()))\n",
    "    pi_vec *= norm\n",
    "    return pi_vec, norm\n",
    "\n",
    "class ParallelDot:\n",
    "    def __init__(self, M_chunks):\n",
    "        self.M_chunks = M_chunks\n",
    "        self.worker = Parallel(n_jobs=len(M_chunks), batch_size=1, backend='threading')\n",
    "    \n",
    "    def dot(self, pi):\n",
    "        return np.hstack(self.worker(delayed(part_dot)(M_chunk, pi) for M_chunk in self.M_chunks))\n",
    "\n",
    "def stat_dist_power_iter(M, max_iter = 1e5, precision=10, init_vec = None, n_jobs=5):\n",
    "    dtype = np.float32 if precision < 7 else (np.float64 if precision < 16 else np.longdouble)\n",
    "    print('\\tusing dtye:', dtype)\n",
    "    print('\\tnormalize...', end='')\n",
    "    sys.stdout.flush()\n",
    "    max_iter = int(max_iter)\n",
    "    M = M.astype(dtype)\n",
    "    P = M.dot(diags(1. / np.array(M.sum(axis=0), dtype=dtype).flatten()))\n",
    "    if init_vec is None:\n",
    "        pi_vec = np.ones(P.shape[0], dtype=dtype) / P.shape[0]\n",
    "    else:\n",
    "        pi_vec = init_vec.astype(dtype)\n",
    "    print('done. ') #, type(pi_vec), pi_vec.dtype, type(P), P.dtype)\n",
    "    sys.stdout.flush()\n",
    "    diff = list()\n",
    "    precision = int(round(precision))\n",
    "    atol = np.power(1e1, -precision)\n",
    "    print('\\tgen chunk idx...', end='')\n",
    "    sys.stdout.flush()\n",
    "    chunk_idx = chunks(range(P.shape[0]), n_jobs)\n",
    "    assert chunk_idx[-1][-1] == P.shape[0] - 1\n",
    "    assert chunk_idx[0][0] == 0\n",
    "    assert sum(map(len, chunk_idx)) == P.shape[0]\n",
    "    print('done.') # chunk len:', map(len, chunk_idx))    \n",
    "    sys.stdout.flush()    \n",
    "    print('\\tslice matrix.', P.shape[0], end='...')\n",
    "    sys.stdout.flush()\n",
    "    P_row_chunks = [P[idx_range,:] for idx_range in chunk_idx]\n",
    "    par_dot = ParallelDot(P_row_chunks)\n",
    "    print('done')\n",
    "    print('\\tstart power iterations. max. iterations:', max_iter)\n",
    "    sys.stdout.flush()\n",
    "    comp_times = list()\n",
    "    start = datetime.datetime.now()\n",
    "    for i in range(1, max_iter + 1):\n",
    "        now = datetime.datetime.now()\n",
    "        comp_times.append((now-start).total_seconds())\n",
    "        comp_times = comp_times[-25:]\n",
    "        avg_iter_time = sum(comp_times)/len(comp_times)\n",
    "        start = now\n",
    "        pi_vec, last_vec = par_dot.dot(pi_vec), pi_vec\n",
    "        # print(pi_vec)\n",
    "        pi_vec, norm = normalize(pi_vec)\n",
    "        current_diff = np.absolute(last_vec - pi_vec).max()\n",
    "        diff.append(current_diff)\n",
    "        if len(diff) > 10:\n",
    "            mean_diff_data = diff[-11:-1]\n",
    "            mean_diff = sum(mean_diff_data) / len(mean_diff_data)\n",
    "            improvement = mean_diff - current_diff\n",
    "            if mean_diff < atol or improvement * 100. < atol:\n",
    "                if improvement < 0:\n",
    "                    print('diverge...stopping...')\n",
    "                break\n",
    "            #time_remain = (current_diff / improvement) * avg_iter_time\n",
    "            print('\\r\\titeration:', (\"%.0f\" % i).rjust(len(str(max_iter)), '0') ,(\"|| abs iter diff: %.\" + str(precision) + 'f') % mean_diff,\n",
    "                  (\"|| %.3f\" % avg_iter_time), 'sec/it', end='')\n",
    "                  # '|| min. remain:', datetime.timedelta(seconds=int(time_remain)), end='')\n",
    "        else:\n",
    "            print('\\r\\titeration:', i, end='')\n",
    "        sys.stdout.flush()\n",
    "    if i == max_iter:\n",
    "        print('\\n\\tdid not converge within', i, 'iterations!!!')\n",
    "    else:\n",
    "        print('\\n\\tneeded', i, 'iterations')\n",
    "    print('\\tlast diff:', (\" %.\" + str(precision) + 'f') % current_diff)\n",
    "    print('\\tlargest eigval:', (\" %.\" + str(precision) + 'f') % norm)\n",
    "    print('\\tsmallest value:', pi_vec.min())\n",
    "    assert len(pi_vec) == P.shape[0]\n",
    "    return pi_vec"
   ]
  },
  {
   "cell_type": "code",
   "execution_count": 7,
   "metadata": {
    "collapsed": false
   },
   "outputs": [
    {
     "name": "stdout",
     "output_type": "stream",
     "text": [
      "init new data\n",
      " P values near zero: # 0\n",
      "largest eigenvec sparse asymmetric\n",
      "largest eigval: [ 1.]\n"
     ]
    },
    {
     "ename": "TypeError",
     "evalue": "float argument required, not function",
     "output_type": "error",
     "traceback": [
      "\u001b[1;31m---------------------------------------------------------------------------\u001b[0m",
      "\u001b[1;31mTypeError\u001b[0m                                 Traceback (most recent call last)",
      "\u001b[1;32m<ipython-input-7-6cf6cb262179>\u001b[0m in \u001b[0;36m<module>\u001b[1;34m()\u001b[0m\n\u001b[0;32m     17\u001b[0m     \u001b[0mpi_vec\u001b[0m \u001b[1;33m=\u001b[0m \u001b[0mnetwork_matrix_tools\u001b[0m\u001b[1;33m.\u001b[0m\u001b[0mstationary_dist\u001b[0m\u001b[1;33m(\u001b[0m\u001b[0mA\u001b[0m\u001b[1;33m,\u001b[0m \u001b[0minit_v\u001b[0m \u001b[1;33m=\u001b[0m \u001b[0minit_v\u001b[0m\u001b[1;33m,\u001b[0m \u001b[0mscaling_factor\u001b[0m\u001b[1;33m=\u001b[0m\u001b[1;36m0.\u001b[0m\u001b[1;33m,\u001b[0m \u001b[0mtol\u001b[0m\u001b[1;33m=\u001b[0m\u001b[0mprecision\u001b[0m\u001b[1;33m)\u001b[0m\u001b[1;33m\u001b[0m\u001b[0m\n\u001b[0;32m     18\u001b[0m     \u001b[0mdf\u001b[0m\u001b[1;33m[\u001b[0m\u001b[1;34m'A_sd'\u001b[0m\u001b[1;33m]\u001b[0m \u001b[1;33m=\u001b[0m \u001b[0mpi_vec\u001b[0m\u001b[1;33m\u001b[0m\u001b[0m\n\u001b[1;32m---> 19\u001b[1;33m     \u001b[1;32mprint\u001b[0m\u001b[1;33m(\u001b[0m\u001b[1;34m'\\teigval'\u001b[0m\u001b[1;33m,\u001b[0m \u001b[1;34m\"%.15f\"\u001b[0m \u001b[1;33m%\u001b[0m \u001b[0mnorm\u001b[0m\u001b[1;33m)\u001b[0m\u001b[1;33m\u001b[0m\u001b[0m\n\u001b[0m\u001b[0;32m     20\u001b[0m     \u001b[0mtimes\u001b[0m\u001b[1;33m.\u001b[0m\u001b[0mloc\u001b[0m\u001b[1;33m[\u001b[0m\u001b[1;34m'A_sd'\u001b[0m\u001b[1;33m]\u001b[0m \u001b[1;33m=\u001b[0m \u001b[0mdatetime\u001b[0m\u001b[1;33m.\u001b[0m\u001b[0mdatetime\u001b[0m\u001b[1;33m.\u001b[0m\u001b[0mnow\u001b[0m\u001b[1;33m(\u001b[0m\u001b[1;33m)\u001b[0m \u001b[1;33m-\u001b[0m \u001b[0mstart\u001b[0m\u001b[1;33m\u001b[0m\u001b[0m\n\u001b[0;32m     21\u001b[0m     \u001b[1;32mprint\u001b[0m\u001b[1;33m(\u001b[0m\u001b[0mdatetime\u001b[0m\u001b[1;33m.\u001b[0m\u001b[0mdatetime\u001b[0m\u001b[1;33m.\u001b[0m\u001b[0mnow\u001b[0m\u001b[1;33m(\u001b[0m\u001b[1;33m)\u001b[0m \u001b[1;33m-\u001b[0m \u001b[0mstart\u001b[0m\u001b[1;33m)\u001b[0m\u001b[1;33m\u001b[0m\u001b[0m\n",
      "\u001b[1;31mTypeError\u001b[0m: float argument required, not function"
     ]
    }
   ],
   "source": [
    "df_fname = 'click_stream_results.df'\n",
    "time_df_fname = 'click_stream_times.df'\n",
    "try:\n",
    "    df = pd.read_pickle(df_fname)\n",
    "    times = pd.read_pickle(time_df_fname)\n",
    "    print('loaded stored data:', df.columns)\n",
    "except:\n",
    "    print('init new data')\n",
    "    df = pd.DataFrame()\n",
    "    times = pd.Series()\n",
    "\n",
    "init_v = None\n",
    "precision = 1e-10\n",
    "\n",
    "if 'A_sd' not in df.columns:\n",
    "    start = datetime.datetime.now()\n",
    "    df['A_sd'] = network_matrix_tools.stationary_dist(A, init_v = init_v, scaling_factor=0., tol=precision)\n",
    "    times.loc['A_sd'] = datetime.datetime.now() - start\n",
    "    print(datetime.datetime.now() - start)\n",
    "init_vec = df['A_sd'].values"
   ]
  },
  {
   "cell_type": "code",
   "execution_count": null,
   "metadata": {
    "collapsed": false,
    "scrolled": false
   },
   "outputs": [],
   "source": [
    "for beta in [1., 0.75, 0.5, 0.25, 0.1, 0.05, 0.01, 0.005, 0.001]:\n",
    "    col_name = 'beta_' + str(beta)\n",
    "    if col_name not in df.columns:\n",
    "        print('calc beta:', beta)\n",
    "        print('\\t', datetime.datetime.now())\n",
    "        start = datetime.datetime.now()\n",
    "        df[col_name] = network_matrix_tools.stationary_dist((beta * A) + B.T, init_v = init_v, scaling_factor=0., tol=precision)\n",
    "        times.loc[col_name] = datetime.datetime.now() - start\n",
    "        df.to_pickle(df_fname)\n",
    "        times.to_pickle(time_df_fname)\n",
    "    else:\n",
    "        print('calc beta:', beta, 'already cached')\n",
    "    print('\\ttook:', times.loc[col_name])\n",
    "    init_vec = df[col_name].values"
   ]
  },
  {
   "cell_type": "code",
   "execution_count": null,
   "metadata": {
    "collapsed": false
   },
   "outputs": [],
   "source": [
    "print('pearson:')\n",
    "print(df.corr(method='pearson').iloc[0])\n",
    "print('spearman:')\n",
    "print(df.corr(method='spearman').iloc[0])\n",
    "#print('kendall:')\n",
    "#print(df.corr(method='kendall').iloc[0])"
   ]
  },
  {
   "cell_type": "code",
   "execution_count": null,
   "metadata": {
    "collapsed": true
   },
   "outputs": [],
   "source": [
    "def sort_key(name):\n",
    "    val = name.rsplit('_', 1)[-1]\n",
    "    try:\n",
    "        return float(val)\n",
    "    except:\n",
    "        return 100.\n",
    "\n",
    "sorted_cols = sorted(df.columns, key=sort_key)\n",
    "df = df[sorted_cols]\n",
    "df.to_pickle(df_fname)\n",
    "times.to_pickle(time_df_fname)\n",
    "exit()"
   ]
  },
  {
   "cell_type": "code",
   "execution_count": null,
   "metadata": {
    "collapsed": false
   },
   "outputs": [],
   "source": []
  },
  {
   "cell_type": "code",
   "execution_count": null,
   "metadata": {
    "collapsed": false
   },
   "outputs": [],
   "source": []
  },
  {
   "cell_type": "code",
   "execution_count": null,
   "metadata": {
    "collapsed": false
   },
   "outputs": [],
   "source": []
  },
  {
   "cell_type": "code",
   "execution_count": null,
   "metadata": {
    "collapsed": true
   },
   "outputs": [],
   "source": []
  }
 ],
 "metadata": {
  "kernelspec": {
   "display_name": "Python 2",
   "language": "python",
   "name": "python2"
  },
  "language_info": {
   "codemirror_mode": {
    "name": "ipython",
    "version": 2
   },
   "file_extension": ".py",
   "mimetype": "text/x-python",
   "name": "python",
   "nbconvert_exporter": "python",
   "pygments_lexer": "ipython2",
   "version": "2.7.6"
  }
 },
 "nbformat": 4,
 "nbformat_minor": 0
}

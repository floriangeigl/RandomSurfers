{
 "cells": [
  {
   "cell_type": "code",
   "execution_count": 1,
   "metadata": {
    "collapsed": false
   },
   "outputs": [
    {
     "name": "stdout",
     "output_type": "stream",
     "text": [
      "Populating the interactive namespace from numpy and matplotlib\n"
     ]
    },
    {
     "name": "stderr",
     "output_type": "stream",
     "text": [
      "/usr/local/lib/python2.7/dist-packages/matplotlib/__init__.py:1350: UserWarning:  This call to matplotlib.use() has no effect\n",
      "because the backend has already been chosen;\n",
      "matplotlib.use() must be called *before* pylab, matplotlib.pyplot,\n",
      "or matplotlib.backends is imported for the first time.\n",
      "\n",
      "  warnings.warn(_use_error_msg)\n"
     ]
    }
   ],
   "source": [
    "from __future__ import division, print_function\n",
    "import sys\n",
    "import os\n",
    "%pylab notebook\n",
    "lib_path = '/home/fgeigl/navigability_of_networks'\n",
    "sys.path.append(lib_path)\n",
    "lib_path = '/home/fgeigl/navigability_of_networks/tools'\n",
    "sys.path.append(lib_path)\n",
    "import network_matrix_tools\n",
    "import numpy as np\n",
    "from scipy.sparse import csr_matrix, diags\n",
    "import pandas as pd\n",
    "import datetime\n",
    "from scipy.sparse.csgraph import connected_components\n",
    "from collections import Counter\n",
    "import operator\n",
    "from sklearn.preprocessing import normalize\n",
    "import numba\n",
    "from joblib import Parallel, delayed\n",
    "from math import sqrt\n",
    "import random\n",
    "import seaborn"
   ]
  },
  {
   "cell_type": "code",
   "execution_count": null,
   "metadata": {
    "collapsed": false
   },
   "outputs": [
    {
     "name": "stdout",
     "output_type": "stream",
     "text": [
      "   beta_0.001  beta_0.005  beta_0.01  beta_0.05  beta_0.1  beta_0.25  \\\n",
      "0    0.000600    0.001678   0.003238   0.009166  0.010187   0.010048   \n",
      "1    0.001654    0.004640   0.008991   0.026075  0.029554   0.030135   \n",
      "\n",
      "   beta_0.5  beta_0.75  beta_1.0      A_sd  \n",
      "0  0.009503   0.009117  0.008835  0.006229  \n",
      "1  0.029195   0.028282  0.027493  0.014659  \n"
     ]
    }
   ],
   "source": [
    "df_fname = 'click_stream_results_poweriter_10k_p10.df'\n",
    "df = pd.read_pickle(df_fname)\n",
    "print(df.head(2))"
   ]
  },
  {
   "cell_type": "code",
   "execution_count": null,
   "metadata": {
    "collapsed": false
   },
   "outputs": [
    {
     "name": "stdout",
     "output_type": "stream",
     "text": [
      "0.001 : 2140\n",
      "0.01 : 21404\n",
      "0.1 : 214042\n",
      "0.2 : 428085\n",
      "0.3 : 642127\n",
      "0.4 : 856169\n",
      "0.5 : 1070212\n",
      "0.6 : 1284254\n",
      "0.7 : 1498296\n",
      "0.8 : 1712338\n",
      "0.9 : 1926381\n"
     ]
    }
   ],
   "source": [
    "test_ser = list(df['beta_0.05'])\n",
    "num_samples = 100\n",
    "results = list()\n",
    "for i in [0.001, 0.01] + list(np.arange(0.1, 1.1, 0.1)):\n",
    "    num_elements = int(np.round(len(test_ser) * i))\n",
    "    print(i, ':', num_elements)\n",
    "    if num_elements == 0:\n",
    "        continue\n",
    "    sample_res = list()\n",
    "    for j in range(num_samples):\n",
    "        if num_elements == len(test_ser):\n",
    "            rnd_sample = test_ser\n",
    "        else:\n",
    "            rnd_sample = random.sample(test_ser, num_elements)\n",
    "        assert len(rnd_sample) == num_elements\n",
    "        perc_low = np.percentile(rnd_sample, 25)\n",
    "        med = np.median(rnd_sample)\n",
    "        perc_high = np.percentile(rnd_sample, 75)\n",
    "        sample_res.append((perc_low, med, perc_high))\n",
    "    sample_res = zip(*sample_res)\n",
    "    assert np.allclose(num_samples, map(len, sample_res))\n",
    "    perc_low, med, perc_high = map(np.mean, sample_res)\n",
    "    perc_low_std, med_std, perc_high_std = map(np.std, sample_res)\n",
    "    results.append((i, perc_low, med, perc_high, perc_low_std, med_std, perc_high_std))\n",
    "print('done.')"
   ]
  },
  {
   "cell_type": "code",
   "execution_count": null,
   "metadata": {
    "collapsed": false
   },
   "outputs": [],
   "source": [
    "res_df = pd.DataFrame(columns=['sample-size', 'avg. 25 percentile', 'avg. median', 'avg. 75 percentile', 'l_std', 'm_std', 'h_std'], data=results)\n",
    "print('done')\n",
    "y = ['avg. 25 percentile', 'avg. median', 'avg. 75 percentile']\n",
    "y_err = ['l_std', 'm_std', 'h_std']\n",
    "ax = res_df.plot(x='sample-size', y=y)\n",
    "for i, j in zip(y_err, y):\n",
    "    ax.fill_between(res_df['sample-size'], res_df[j] + res_df[i], res_df[j] - res_df[i], alpha=0.7)\n",
    "plt.title('# samples per sample-size:' + str(num_samples))"
   ]
  },
  {
   "cell_type": "code",
   "execution_count": null,
   "metadata": {
    "collapsed": false
   },
   "outputs": [],
   "source": []
  },
  {
   "cell_type": "code",
   "execution_count": null,
   "metadata": {
    "collapsed": true
   },
   "outputs": [],
   "source": []
  }
 ],
 "metadata": {
  "kernelspec": {
   "display_name": "Python 2",
   "language": "python",
   "name": "python2"
  },
  "language_info": {
   "codemirror_mode": {
    "name": "ipython",
    "version": 2
   },
   "file_extension": ".py",
   "mimetype": "text/x-python",
   "name": "python",
   "nbconvert_exporter": "python",
   "pygments_lexer": "ipython2",
   "version": "2.7.6"
  }
 },
 "nbformat": 4,
 "nbformat_minor": 0
}

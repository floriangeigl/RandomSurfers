{
 "cells": [
  {
   "cell_type": "code",
   "execution_count": 1,
   "metadata": {
    "collapsed": false
   },
   "outputs": [
    {
     "name": "stdout",
     "output_type": "stream",
     "text": [
      "Populating the interactive namespace from numpy and matplotlib\n"
     ]
    },
    {
     "name": "stderr",
     "output_type": "stream",
     "text": [
      "/usr/local/lib/python2.7/dist-packages/matplotlib/__init__.py:1350: UserWarning:  This call to matplotlib.use() has no effect\n",
      "because the backend has already been chosen;\n",
      "matplotlib.use() must be called *before* pylab, matplotlib.pyplot,\n",
      "or matplotlib.backends is imported for the first time.\n",
      "\n",
      "  warnings.warn(_use_error_msg)\n"
     ]
    }
   ],
   "source": [
    "from __future__ import division, print_function\n",
    "import sys\n",
    "import os\n",
    "%pylab notebook\n",
    "lib_path = '/home/fgeigl/navigability_of_networks'\n",
    "sys.path.append(lib_path)\n",
    "lib_path = '/home/fgeigl/navigability_of_networks/tools'\n",
    "sys.path.append(lib_path)\n",
    "import network_matrix_tools\n",
    "import numpy as np\n",
    "from scipy.sparse import csr_matrix\n",
    "import pandas as pd\n",
    "import datetime\n",
    "from scipy.sparse.csgraph import connected_components\n",
    "from collections import Counter\n",
    "import operator"
   ]
  },
  {
   "cell_type": "code",
   "execution_count": 2,
   "metadata": {
    "collapsed": true
   },
   "outputs": [],
   "source": [
    "def load_sparse_csr(filename):\n",
    "    loader = np.load(filename)\n",
    "    return csr_matrix((loader['data'], loader['indices'], loader['indptr']), shape=loader['shape'])"
   ]
  },
  {
   "cell_type": "code",
   "execution_count": 3,
   "metadata": {
    "collapsed": false
   },
   "outputs": [],
   "source": [
    "A = load_sparse_csr('/opt/datasets/wiki_clickstream/adjacency_clickstream_network_largest_component.npz')\n",
    "B = load_sparse_csr('/opt/datasets/wiki_clickstream/clickstream_network_transition_bias_largest_component.npz')    "
   ]
  },
  {
   "cell_type": "code",
   "execution_count": 4,
   "metadata": {
    "collapsed": false
   },
   "outputs": [
    {
     "name": "stdout",
     "output_type": "stream",
     "text": [
      "A: <class 'scipy.sparse.csr.csr_matrix'> (2140423, 2140423)\n",
      "B: <class 'scipy.sparse.csr.csr_matrix'> (2140423, 2140423)\n"
     ]
    }
   ],
   "source": [
    "print('A:', type(A), A.shape)\n",
    "print('B:', type(B), B.shape)"
   ]
  },
  {
   "cell_type": "code",
   "execution_count": 5,
   "metadata": {
    "collapsed": false
   },
   "outputs": [
    {
     "name": "stdout",
     "output_type": "stream",
     "text": [
      "largest component contains 2140423 nodes ( 1.0 )\n",
      "A: <class 'scipy.sparse.csr.csr_matrix'> (2140423, 2140423) 3.59513059841e-05\n",
      "B: <class 'scipy.sparse.csr.csr_matrix'> (2140423, 2140423) 2.66174133129e-06\n"
     ]
    }
   ],
   "source": [
    "_, labels = connected_components(A + B, directed=True, connection='strong', return_labels=True)\n",
    "label_counts = Counter(labels)\n",
    "largest_label, num_nodes = max(label_counts.items(), key=operator.itemgetter(1))\n",
    "print('largest component contains', num_nodes, 'nodes', '(', num_nodes/A.shape[0], ')')\n",
    "if num_nodes != A.shape[0]:\n",
    "    label_filt = labels == largest_label\n",
    "    A = A[label_filt, :][:, label_filt]\n",
    "    B = B[label_filt, :][:, label_filt]\n",
    "print('A:', type(A), A.shape, A.nnz/(np.power(A.shape[0],2)))\n",
    "print('B:', type(B), B.shape, B.nnz/(np.power(B.shape[0],2)))"
   ]
  },
  {
   "cell_type": "code",
   "execution_count": null,
   "metadata": {
    "collapsed": false
   },
   "outputs": [
    {
     "name": "stdout",
     "output_type": "stream",
     "text": [
      " P values near zero: # 0\n",
      "largest eigenvecsparseasymmetric\n",
      "0:08:35.256508\n"
     ]
    }
   ],
   "source": [
    "# adjacency_matrix, bias=None, print_prefix='', eps=1e-10, orig_ma_mi_r=None, method='PR', damping=0.85, smooth_bias=True, calc_entropy_rate=True, verbose=True):\n",
    "df_pickle_name = 'click_stream_results.df'\n",
    "time_pickle_name = 'click_stream_times.df'\n",
    "try:\n",
    "    df = pd.read_pickle(df_pickle_name)\n",
    "    times = pd.read_pickle(time_pickle_name)\n",
    "    print('loaded pickles')\n",
    "except:\n",
    "    print('load failed - create new dfs')\n",
    "    df = pd.DataFrame()\n",
    "    times = pd.Series()\n",
    "start = datetime.datetime.now()\n",
    "_, df['A_sd'] = network_matrix_tools.calc_entropy_and_stat_dist(A, method='EV', smooth_bias=False, calc_entropy_rate=False)\n",
    "times.loc['A_sd'] = datetime.datetime.now() - start\n",
    "print(datetime.datetime.now() - start)"
   ]
  },
  {
   "cell_type": "code",
   "execution_count": null,
   "metadata": {
    "collapsed": false
   },
   "outputs": [
    {
     "name": "stdout",
     "output_type": "stream",
     "text": [
      "calc beta: 1.0\n",
      "\t 2016-01-16 09:13:18.229290\n",
      " P values near zero: # 0\n",
      "largest eigenvecsparseasymmetric\n",
      "\ttook 1:20:12.782027 \n",
      "\n",
      "calc beta: 0.75\n",
      "\t 2016-01-16 10:33:31.522634\n",
      " P values near zero: # 0\n",
      "largest eigenvecsparseasymmetric\n",
      "\ttook 1:32:56.103905 \n",
      "\n",
      "calc beta: 0.5\n",
      "\t 2016-01-16 12:06:28.373984\n",
      " P values near zero: # 0\n",
      "largest eigenvecsparseasymmetric\n",
      "\ttook 2:23:53.085252 \n",
      "\n",
      "calc beta: 0.25\n",
      "\t 2016-01-16 14:30:22.353274\n",
      " P values near zero: # 0\n",
      "largest eigenvecsparseasymmetric\n",
      "\ttook 5:48:26.676605 \n",
      "\n",
      "calc beta: 0.1\n",
      "\t 2016-01-16 20:18:50.186320\n",
      " P values near zero: # 0\n",
      "largest eigenvecsparseasymmetric\n",
      "\ttook 13:47:57.012454 \n",
      "\n",
      "calc beta: 0.05\n",
      "\t 2016-01-17 10:06:48.676885\n",
      " P values near zero: # 0\n",
      "largest eigenvecsparseasymmetric\n",
      "\ttook 1 day, 5:28:18.941205 \n",
      "\n",
      "calc beta: 0.01\n",
      "\t 2016-01-18 15:35:09.178675\n"
     ]
    }
   ],
   "source": [
    "for beta in [1., 0.75, 0.5, 0.25, 0.1, 0.05, 0.01, 0.005]:\n",
    "    col_name = 'beta_' + str(beta)\n",
    "    if col_name not in df.columns:\n",
    "        print('calc beta:', beta)\n",
    "        print('\\t', datetime.datetime.now())\n",
    "        start = datetime.datetime.now()\n",
    "        _, df[col_name] = network_matrix_tools.calc_entropy_and_stat_dist((beta * A) + B.T, method='EV', smooth_bias=False, calc_entropy_rate=False)\n",
    "        times.loc[col_name] = datetime.datetime.now() - start\n",
    "        print('\\ttook', datetime.datetime.now() - start, '\\n')\n",
    "        df.to_pickle(df_pickle_name)\n",
    "        times.to_pickle(time_pickle_name)\n",
    "    else:\n",
    "        print('calc beta:', beta, 'already cached')\n",
    "        print('\\ttook:', times.loc[col_name])\n",
    "    sys.stdout.flush()"
   ]
  },
  {
   "cell_type": "code",
   "execution_count": null,
   "metadata": {
    "collapsed": false
   },
   "outputs": [],
   "source": [
    "print('pearson:')\n",
    "print(df.corr(method='pearson'))\n",
    "print('spearman:')\n",
    "print(df.corr(method='spearman'))\n",
    "print('kendall:')\n",
    "print(df.corr(method='kendall'))"
   ]
  },
  {
   "cell_type": "code",
   "execution_count": null,
   "metadata": {
    "collapsed": true
   },
   "outputs": [],
   "source": [
    "def sort_key(name):\n",
    "    val = name.rsplit('_', 1)[-1]\n",
    "    try:\n",
    "        return float(val)\n",
    "    execpt:\n",
    "        return 100.\n",
    "\n",
    "sorted_cols = sorted(df.columns, key=sort_key)\n",
    "df = df[sorted_cols]\n",
    "df.to_pickle(df_pickle_name)\n",
    "times.to_pickle(time_pickle_name)"
   ]
  },
  {
   "cell_type": "code",
   "execution_count": null,
   "metadata": {
    "collapsed": false
   },
   "outputs": [],
   "source": [
    "df.corr(method='pearson').iloc[0][df.columns[1:]].plot()\n",
    "plt.show()"
   ]
  },
  {
   "cell_type": "code",
   "execution_count": null,
   "metadata": {
    "collapsed": false
   },
   "outputs": [],
   "source": [
    "df.head()"
   ]
  },
  {
   "cell_type": "code",
   "execution_count": null,
   "metadata": {
    "collapsed": false
   },
   "outputs": [],
   "source": [
    "df.loc[[1,2,3]]"
   ]
  },
  {
   "cell_type": "code",
   "execution_count": null,
   "metadata": {
    "collapsed": true
   },
   "outputs": [],
   "source": []
  }
 ],
 "metadata": {
  "kernelspec": {
   "display_name": "Python 2",
   "language": "python",
   "name": "python2"
  },
  "language_info": {
   "codemirror_mode": {
    "name": "ipython",
    "version": 2
   },
   "file_extension": ".py",
   "mimetype": "text/x-python",
   "name": "python",
   "nbconvert_exporter": "python",
   "pygments_lexer": "ipython2",
   "version": "2.7.6"
  }
 },
 "nbformat": 4,
 "nbformat_minor": 0
}

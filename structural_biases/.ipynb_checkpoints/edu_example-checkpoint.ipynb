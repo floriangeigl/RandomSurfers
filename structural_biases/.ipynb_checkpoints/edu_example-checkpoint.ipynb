{
 "cells": [
  {
   "cell_type": "code",
   "execution_count": 1,
   "metadata": {
    "collapsed": false
   },
   "outputs": [
    {
     "name": "stdout",
     "output_type": "stream",
     "text": [
      "append /home/fgeigl/\n"
     ]
    },
    {
     "name": "stderr",
     "output_type": "stream",
     "text": [
      "/usr/local/lib/python2.7/dist-packages/matplotlib/__init__.py:1350: UserWarning:  This call to matplotlib.use() has no effect\n",
      "because the backend has already been chosen;\n",
      "matplotlib.use() must be called *before* pylab, matplotlib.pyplot,\n",
      "or matplotlib.backends is imported for the first time.\n",
      "\n",
      "  warnings.warn(_use_error_msg)\n"
     ]
    }
   ],
   "source": [
    "from __future__ import division, print_function\n",
    "from sys import platform as _platform\n",
    "import matplotlib\n",
    "\n",
    "if _platform == \"linux\" or _platform == \"linux2\":\n",
    "    matplotlib.use('Agg')\n",
    "%matplotlib inline\n",
    "import matplotlib.pylab as plt\n",
    "import os\n",
    "import sys\n",
    "import numpy as np\n",
    "import random\n",
    "import copy\n",
    "import traceback\n",
    "import operator\n",
    "from collections import defaultdict\n",
    "from pprint import pprint\n",
    "import string\n",
    "from graph_tool.all import *\n",
    "import scipy.stats as stats\n",
    "from IPython.display import HTML\n",
    "import pandas as pd\n",
    "import sys\n",
    "import os\n",
    "lib_path = '/home/fgeigl/'\n",
    "print('append', lib_path)\n",
    "sys.path.append(lib_path)\n",
    "import tools.mpl_tools as plt_tools\n",
    "# import seaborn\n",
    "matplotlib.rcParams.update({'font.size': 25})\n",
    "matplotlib.rcParams['xtick.major.pad'] *= 2\n",
    "matplotlib.rcParams['ytick.major.pad'] *= 2\n",
    "from matplotlib.colors import ColorConverter\n",
    "\n",
    "color_conv = ColorConverter()"
   ]
  },
  {
   "cell_type": "code",
   "execution_count": 2,
   "metadata": {
    "collapsed": true
   },
   "outputs": [],
   "source": [
    "def matrix_to_latex(mat, decimals=2):\n",
    "    print(r'\\begin{pmatrix}')\n",
    "    try:    \n",
    "        for i in range(mat.shape[0]):\n",
    "            for j in range(mat.shape[1]):\n",
    "                if j != 0:\n",
    "                    print(' & ', end='')\n",
    "                print(np.round(mat[i,j], decimals=decimals), end='')\n",
    "            if i != mat.shape[0] - 1:\n",
    "                print(r' \\\\')\n",
    "            else:\n",
    "                print('')\n",
    "    except:\n",
    "        for i in range(mat.shape[0]):\n",
    "            print(np.round(mat[i], decimals=decimals), end='')\n",
    "            if i != mat.shape[0] - 1:\n",
    "                print(r' \\\\')\n",
    "            else:\n",
    "                print('')\n",
    "    print(r'\\end{pmatrix}')\n",
    "    \n",
    "def trans_mat(mat):\n",
    "    # print('get trans mat of\\n', mat)\n",
    "    out = np.array(mat.sum(axis=0)).flatten()\n",
    "    # print('Matrix outdegree\\n', out)\n",
    "\n",
    "    D = np.diag(out)\n",
    "    # print('D\\n', D)\n",
    "\n",
    "    # print(np.power(D,-1))\n",
    "    D_norm = np.power(D, -1)\n",
    "    D_norm[np.invert(np.isfinite(D_norm))] = 0\n",
    "\n",
    "    return mat.dot(D_norm)\n",
    "    "
   ]
  },
  {
   "cell_type": "code",
   "execution_count": 19,
   "metadata": {
    "collapsed": false
   },
   "outputs": [
    {
     "name": "stdout",
     "output_type": "stream",
     "text": [
      "<bound method PropertyMap.get_2d_array of <PropertyMap object with key type 'Vertex' and value type 'vector<double>', for Graph 0x7f8ff88294d0, at 0x7f8ff8869d10>>\n"
     ]
    },
    {
     "data": {
      "image/png": "[encoded data removed]",
      "text/plain": [
       "<IPython.core.display.Image object>"
      ]
     },
     "metadata": {},
     "output_type": "display_data"
    },
    {
     "data": {
      "text/plain": [
       "0"
      ]
     },
     "execution_count": 19,
     "metadata": {},
     "output_type": "execute_result"
    }
   ],
   "source": [
    "g = Graph(directed=True)\n",
    "vertices = g.add_vertex(4)\n",
    "g.add_edge(1, 0)\n",
    "g.add_edge(0, 3)\n",
    "g.add_edge(2, 3)\n",
    "# g.add_edge(3, 0)\n",
    "g.add_edge(3, 1)\n",
    "g.add_edge(1, 2)\n",
    "g.add_edge(2, 1)\n",
    "target_nodes = [0]\n",
    "\n",
    "label_names = g.new_vertex_property('string')\n",
    "v_colors = g.new_vertex_property('vector<float>')\n",
    "for v in g.vertices():\n",
    "    label_names[v] = str(int(v) +1)\n",
    "    if int(v) in target_nodes:\n",
    "        c_name = 'red'\n",
    "    else:\n",
    "        c_name = 'lightblue'\n",
    "    v_colors[v] = color_conv.to_rgba(c_name)\n",
    "\n",
    "def_e_color = [0., 0., 0., 1]\n",
    "def_e_width = 10\n",
    "edge_color = g.new_edge_property('vector<float>')\n",
    "edge_width = g.new_edge_property('float')\n",
    "for e in g.edges():\n",
    "    edge_color[e] = def_e_color\n",
    "    edge_width[e] = def_e_width\n",
    "\n",
    "pos = g.new_vertex_property('vector<float>')\n",
    "out_size = (300, 600)\n",
    "pos.set_2d_array(np.array(np.matrix([[0,-1],[-1,0],[1,0],[0,1]])).T)\n",
    "\n",
    "#pin = g.new_vertex_property('bool')\n",
    "#pin.a[0] = 1\n",
    "#pin.a[2] = 1\n",
    "print(pos.get_2d_array)\n",
    "pos = sfdp_layout(g, C=4, pos=pos)\n",
    "plot_ext = '_dir'\n",
    "out_fn = 'toy_graph' + plot_ext + '.pdf'\n",
    "graph_draw(g, vertex_text=label_names, vertex_font_size= 70, edge_color=edge_color, edge_pen_width=edge_width, vertex_pen_width=4, vertex_color='blue', vertex_fill_color=v_colors, pos=pos, output=out_fn, output_size=out_size)\n",
    "os.system('pdfcrop ' + out_fn + ' ' + out_fn)\n"
   ]
  },
  {
   "cell_type": "markdown",
   "metadata": {},
   "source": [
    "# defaults"
   ]
  },
  {
   "cell_type": "code",
   "execution_count": 20,
   "metadata": {
    "collapsed": false
   },
   "outputs": [
    {
     "data": {
      "image/png": "[encoded data removed]",
      "text/plain": [
       "<IPython.core.display.Image object>"
      ]
     },
     "metadata": {},
     "output_type": "display_data"
    },
    {
     "data": {
      "text/plain": [
       "0"
      ]
     },
     "execution_count": 20,
     "metadata": {},
     "output_type": "execute_result"
    }
   ],
   "source": [
    "if True:\n",
    "    g.set_directed(False)\n",
    "    remove_parallel_edges(g)\n",
    "    plot_ext = '_undir'\n",
    "out_fn = 'toy_graph' + plot_ext + '.pdf'\n",
    "graph_draw(g, vertex_text=label_names, vertex_font_size= 70, edge_color=edge_color, edge_pen_width=edge_width, vertex_pen_width=4, vertex_color='blue', vertex_fill_color=v_colors, pos=pos, output=out_fn, output_size=out_size)\n",
    "os.system('pdfcrop ' + out_fn + ' ' + out_fn)"
   ]
  },
  {
   "cell_type": "code",
   "execution_count": 21,
   "metadata": {
    "collapsed": false
   },
   "outputs": [
    {
     "name": "stdout",
     "output_type": "stream",
     "text": [
      "A\n",
      " [[ 0.  1.  0.  0.]\n",
      " [ 0.  0.  1.  1.]\n",
      " [ 0.  1.  0.  0.]\n",
      " [ 1.  0.  1.  0.]]\n",
      "t\n",
      " [ 1.  0.  0.  0.]\n",
      "A outdegree\n",
      " [ 1.  2.  2.  1.]\n",
      "D\n",
      " [[ 1.  0.  0.  0.]\n",
      " [ 0.  2.  0.  0.]\n",
      " [ 0.  0.  2.  0.]\n",
      " [ 0.  0.  0.  1.]]\n",
      "P\n",
      " [[ 0.   0.5  0.   0. ]\n",
      " [ 0.   0.   0.5  1. ]\n",
      " [ 0.   0.5  0.   0. ]\n",
      " [ 1.   0.   0.5  0. ]]\n",
      "max eig: 1.0\n",
      "pi\n",
      " [ 0.18181818  0.36363636  0.18181818  0.27272727] \n",
      "pi sum 1.0\n",
      "pi = P * pi: True\n",
      "\\begin{pmatrix}\n",
      "0.18 \\\\\n",
      "0.36 \\\\\n",
      "0.18 \\\\\n",
      "0.27\n",
      "\\end{pmatrix}\n"
     ]
    }
   ],
   "source": [
    "A = adjacency(g).todense()\n",
    "print('A\\n', A)\n",
    "\n",
    "t = np.zeros(A.shape[0])\n",
    "t[target_nodes] = 1\n",
    "print('t\\n', t)\n",
    "\n",
    "A_out = np.array(A.sum(axis=0)).flatten()\n",
    "print('A outdegree\\n', A_out)\n",
    "\n",
    "D = np.diag(A_out)\n",
    "print('D\\n', D)\n",
    "\n",
    "# print(np.power(D,-1))\n",
    "D_norm = np.power(D, -1)\n",
    "D_norm[np.invert(np.isfinite(D_norm))] = 0\n",
    "\n",
    "P = A.dot(D_norm)\n",
    "print('P\\n', P)\n",
    "def get_stat_dist(P):\n",
    "    w, v = np.linalg.eig(P)\n",
    "    w = w.real\n",
    "    v = v.real\n",
    "    max_eig = np.argmax(w)\n",
    "    print('max eig:', w[max_eig])\n",
    "    pi = np.array(v[:, max_eig]).flatten()\n",
    "    pi /= pi.sum()\n",
    "    print('pi\\n', pi, '\\npi sum', pi.sum())\n",
    "    print('pi = P * pi:', np.allclose(pi, np.array(P.dot(pi)).flatten()))\n",
    "    return pi\n",
    "pi = get_stat_dist(P)\n",
    "matrix_to_latex(pi)"
   ]
  },
  {
   "cell_type": "markdown",
   "metadata": {},
   "source": [
    "# bias"
   ]
  },
  {
   "cell_type": "code",
   "execution_count": 22,
   "metadata": {
    "collapsed": false
   },
   "outputs": [
    {
     "name": "stdout",
     "output_type": "stream",
     "text": [
      "N\n",
      " [[ 1.  0.  0.  0.]\n",
      " [ 0.  0.  0.  0.]\n",
      " [ 0.  0.  0.  0.]\n",
      " [ 0.  0.  0.  0.]]\n",
      "W_B\n",
      " [[ 0.  2.  0.  0.]\n",
      " [ 0.  0.  1.  1.]\n",
      " [ 0.  1.  0.  0.]\n",
      " [ 1.  0.  1.  0.]]\n"
     ]
    },
    {
     "data": {
      "image/png": "[encoded data removed]",
      "text/plain": [
       "<IPython.core.display.Image object>"
      ]
     },
     "metadata": {},
     "output_type": "display_data"
    }
   ],
   "source": [
    "N = np.diag(t)\n",
    "print('N\\n', N)\n",
    "\n",
    "W_B = A + N.dot(A)\n",
    "print('W_B\\n', W_B)\n",
    "\n",
    "for e in g.edges():\n",
    "    if int(e.target()) in target_nodes or (not g.is_directed() and int(e.source()) in target_nodes):\n",
    "        edge_width[e] *= 1.5\n",
    "        edge_color[e] = color_conv.to_rgba('blue')\n",
    "\n",
    "out_fn = 'toy_graph_b' + plot_ext + '.pdf'\n",
    "graph_draw(g, vertex_text=label_names, vertex_font_size= 70, edge_color=edge_color, edge_pen_width=edge_width, vertex_pen_width=4, vertex_color='blue', vertex_fill_color=v_colors, pos=pos, output=out_fn, output_size=out_size)\n",
    "os.system('pdfcrop ' + out_fn + ' ' + out_fn)\n",
    "\n",
    "for e in g.edges():\n",
    "    if int(e.target()) in target_nodes:\n",
    "        edge_color[e] = def_e_color\n",
    "        edge_width[e] = def_e_width\n"
   ]
  },
  {
   "cell_type": "code",
   "execution_count": 23,
   "metadata": {
    "collapsed": false
   },
   "outputs": [
    {
     "name": "stdout",
     "output_type": "stream",
     "text": [
      "\\begin{pmatrix}\n",
      "0 & 1 & 0 & 0 \\\\\n",
      "0 & 0 & 1 & 1 \\\\\n",
      "0 & 1 & 0 & 0 \\\\\n",
      "1 & 0 & 1 & 0\n",
      "\\end{pmatrix}\n"
     ]
    }
   ],
   "source": [
    "matrix_to_latex(A.astype('int'))"
   ]
  },
  {
   "cell_type": "code",
   "execution_count": 24,
   "metadata": {
    "collapsed": false
   },
   "outputs": [
    {
     "name": "stdout",
     "output_type": "stream",
     "text": [
      "\\begin{pmatrix}\n",
      "1 \\\\\n",
      "0 \\\\\n",
      "0 \\\\\n",
      "0\n",
      "\\end{pmatrix}\n"
     ]
    }
   ],
   "source": [
    "matrix_to_latex(t.astype('int'))"
   ]
  },
  {
   "cell_type": "code",
   "execution_count": 25,
   "metadata": {
    "collapsed": false
   },
   "outputs": [
    {
     "name": "stdout",
     "output_type": "stream",
     "text": [
      "\\begin{pmatrix}\n",
      "1 & 0 & 0 & 0 \\\\\n",
      "0 & 2 & 0 & 0 \\\\\n",
      "0 & 0 & 2 & 0 \\\\\n",
      "0 & 0 & 0 & 1\n",
      "\\end{pmatrix}\n",
      "\\begin{pmatrix}\n",
      "0.0 & 0.5 & 0.0 & 0.0 \\\\\n",
      "0.0 & 0.0 & 0.5 & 1.0 \\\\\n",
      "0.0 & 0.5 & 0.0 & 0.0 \\\\\n",
      "1.0 & 0.0 & 0.5 & 0.0\n",
      "\\end{pmatrix}\n"
     ]
    }
   ],
   "source": [
    "matrix_to_latex(D.astype('int'))\n",
    "matrix_to_latex(P)"
   ]
  },
  {
   "cell_type": "code",
   "execution_count": 26,
   "metadata": {
    "collapsed": false
   },
   "outputs": [
    {
     "name": "stdout",
     "output_type": "stream",
     "text": [
      "\\begin{pmatrix}\n",
      "1 & 0 & 0 & 0 \\\\\n",
      "0 & 0 & 0 & 0 \\\\\n",
      "0 & 0 & 0 & 0 \\\\\n",
      "0 & 0 & 0 & 0\n",
      "\\end{pmatrix}\n",
      "\\begin{pmatrix}\n",
      "0 & 2 & 0 & 0 \\\\\n",
      "0 & 0 & 1 & 1 \\\\\n",
      "0 & 1 & 0 & 0 \\\\\n",
      "1 & 0 & 1 & 0\n",
      "\\end{pmatrix}\n",
      "\\begin{pmatrix}\n",
      "0.0 & 0.67 & 0.0 & 0.0 \\\\\n",
      "0.0 & 0.0 & 0.5 & 1.0 \\\\\n",
      "0.0 & 0.33 & 0.0 & 0.0 \\\\\n",
      "1.0 & 0.0 & 0.5 & 0.0\n",
      "\\end{pmatrix}\n",
      "max eig: 1.0\n",
      "pi\n",
      " [ 0.23529412  0.35294118  0.11764706  0.29411765] \n",
      "pi sum 1.0\n",
      "pi = P * pi: True\n",
      "\\begin{pmatrix}\n",
      "0.24 \\\\\n",
      "0.35 \\\\\n",
      "0.12 \\\\\n",
      "0.29\n",
      "\\end{pmatrix}\n"
     ]
    }
   ],
   "source": [
    "matrix_to_latex(N.astype('int'))\n",
    "matrix_to_latex(W_B.astype('int'))\n",
    "matrix_to_latex(trans_mat(W_B))\n",
    "matrix_to_latex(get_stat_dist(trans_mat(W_B)))"
   ]
  },
  {
   "cell_type": "code",
   "execution_count": null,
   "metadata": {
    "collapsed": false
   },
   "outputs": [],
   "source": []
  },
  {
   "cell_type": "code",
   "execution_count": null,
   "metadata": {
    "collapsed": true
   },
   "outputs": [],
   "source": [
    "\n"
   ]
  },
  {
   "cell_type": "code",
   "execution_count": null,
   "metadata": {
    "collapsed": true
   },
   "outputs": [],
   "source": []
  },
  {
   "cell_type": "code",
   "execution_count": null,
   "metadata": {
    "collapsed": true
   },
   "outputs": [],
   "source": []
  }
 ],
 "metadata": {
  "kernelspec": {
   "display_name": "Python 2",
   "language": "python",
   "name": "python2"
  },
  "language_info": {
   "codemirror_mode": {
    "name": "ipython",
    "version": 2
   },
   "file_extension": ".py",
   "mimetype": "text/x-python",
   "name": "python",
   "nbconvert_exporter": "python",
   "pygments_lexer": "ipython2",
   "version": "2.7.6"
  }
 },
 "nbformat": 4,
 "nbformat_minor": 0
}

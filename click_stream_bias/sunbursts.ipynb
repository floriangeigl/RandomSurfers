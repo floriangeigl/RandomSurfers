{
 "cells": [
  {
   "cell_type": "code",
   "execution_count": 11,
   "metadata": {
    "collapsed": false
   },
   "outputs": [
    {
     "name": "stdout",
     "output_type": "stream",
     "text": [
      "('append', '/home/fgeigl/')\n"
     ]
    }
   ],
   "source": [
    "import sys\n",
    "import os\n",
    "lib_path = '/home/fgeigl/'\n",
    "print('append', lib_path)\n",
    "sys.path.append(lib_path)\n",
    "import pandas as pd\n",
    "import tools.pd_tools as pd_tools\n",
    "import numpy as np"
   ]
  },
  {
   "cell_type": "code",
   "execution_count": 22,
   "metadata": {
    "collapsed": false
   },
   "outputs": [
    {
     "name": "stdout",
     "output_type": "stream",
     "text": [
      "/opt/datasets/wiki_clickstream/sunburst_data/clickstream_three_NO.df\n",
      "                             seq  years\n",
      "253325   male/NO_COUNTRY/-10/end    -10\n",
      "157656       male/Israel/-10/end    -10\n",
      "334846  male/NO_COUNTRY/-100/end   -100\n",
      "177281       male/Italy/-100/end   -100\n",
      "51223      male/Israel/-1000/end  -1000\n",
      "/opt/datasets/wiki_clickstream/sunburst_data/clickstream_all_NO.df\n",
      "                             seq  years\n",
      "157656       male/Israel/-10/end    -10\n",
      "253325   male/NO_COUNTRY/-10/end    -10\n",
      "334846  male/NO_COUNTRY/-100/end   -100\n",
      "177281       male/Italy/-100/end   -100\n",
      "51223      male/Israel/-1000/end  -1000\n"
     ]
    }
   ],
   "source": [
    "data_dir = '/opt/datasets/wiki_clickstream/sunburst_data/'\n",
    "out_dir = '/home/fgeigl/navigability_of_networks/click_stream_bias/sunbursts_output/'\n",
    "for i in filter(lambda x: x.endswith('NO.df'), os.listdir(data_dir)):\n",
    "    f_name = data_dir + i\n",
    "    print(f_name)\n",
    "    df = pd.read_pickle(f_name)\n",
    "    first_col = df.columns[0]\n",
    "    df[first_col] += '/end'\n",
    "    df[first_col] = df[first_col].str.lstrip('/')\n",
    "    df[first_col] = df[first_col].apply(lambda x: '/'.join([part if idx != 2 else (str(int(np.floor(float(part)/10)*10)) if part != 'NO_YEAR' else part) for idx, part in enumerate(x.split('/'))]))\n",
    "    df['years'] = df[first_col].apply(lambda x: (str(int(np.floor(float(x.split('/')[2])/10)*10))) if x.split('/')[2] != 'NO_YEAR' else x.split('/')[2])\n",
    "    df = df.rename(columns={first_col:'seq'})\n",
    "    df.sort_values(by='years', inplace=True)\n",
    "    print(df.head())\n",
    "    pd_tools.to_sunburst_csv(df, filename=out_dir + i.replace('.df','.csv'), sep='/', end_name='end', exec_r=True, max_depth=3)"
   ]
  },
  {
   "cell_type": "code",
   "execution_count": null,
   "metadata": {
    "collapsed": true
   },
   "outputs": [],
   "source": []
  }
 ],
 "metadata": {
  "kernelspec": {
   "display_name": "Python 2",
   "language": "python",
   "name": "python2"
  },
  "language_info": {
   "codemirror_mode": {
    "name": "ipython",
    "version": 2
   },
   "file_extension": ".py",
   "mimetype": "text/x-python",
   "name": "python",
   "nbconvert_exporter": "python",
   "pygments_lexer": "ipython2",
   "version": "2.7.6"
  }
 },
 "nbformat": 4,
 "nbformat_minor": 0
}
